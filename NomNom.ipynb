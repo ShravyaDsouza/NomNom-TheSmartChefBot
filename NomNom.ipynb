{
 "cells": [
  {
   "cell_type": "code",
   "execution_count": null,
   "metadata": {
    "id": "q5P-tJDrpaML"
   },
   "outputs": [],
   "source": [
    "import pandas as pd\n",
    "import numpy as np"
   ]
  },
  {
   "cell_type": "code",
   "execution_count": null,
   "metadata": {
    "id": "DMM8lnUFfAPa"
   },
   "outputs": [],
   "source": [
    "df1 = pd.read_csv('/content/drive/MyDrive/Colab Notebooks/dataset/recipes.csv')"
   ]
  },
  {
   "cell_type": "code",
   "execution_count": null,
   "metadata": {
    "id": "-fYhG-D-KVPw"
   },
   "outputs": [],
   "source": [
    "df2 = pd.read_csv('/content/drive/MyDrive/Colab Notebooks/dataset/RAW_recipes.csv', quoting=3, escapechar='\\\\', on_bad_lines='skip')"
   ]
  },
  {
   "cell_type": "code",
   "execution_count": null,
   "metadata": {
    "id": "akuHzdgkkJQ9"
   },
   "outputs": [],
   "source": [
    "df3 = pd.read_csv('/content/drive/MyDrive/Colab Notebooks/dataset/recipes_data.csv',converters={\n",
    "        'ingredients': str,\n",
    "        'directions': str,\n",
    "        'NER': str\n",
    "    })"
   ]
  },
  {
   "cell_type": "code",
   "execution_count": null,
   "metadata": {
    "colab": {
     "base_uri": "https://localhost:8080/"
    },
    "id": "bIPhsixYiziP",
    "outputId": "764b3699-ff67-4e7c-b1e9-6fe708039a1e"
   },
   "outputs": [],
   "source": [
    "df1.info()"
   ]
  },
  {
   "cell_type": "code",
   "execution_count": null,
   "metadata": {
    "colab": {
     "base_uri": "https://localhost:8080/"
    },
    "id": "pYF3p6Z-i1qX",
    "outputId": "d3b957fe-68cd-44b5-8626-938083ef3eaf"
   },
   "outputs": [],
   "source": [
    "df2.info()"
   ]
  },
  {
   "cell_type": "code",
   "execution_count": null,
   "metadata": {
    "colab": {
     "base_uri": "https://localhost:8080/"
    },
    "id": "6Nz3RBZCd-_O",
    "outputId": "f064c0e2-c88c-49a2-9ac8-9127d41f751e"
   },
   "outputs": [],
   "source": [
    "df3.info()"
   ]
  },
  {
   "cell_type": "code",
   "execution_count": null,
   "metadata": {
    "colab": {
     "base_uri": "https://localhost:8080/",
     "height": 730
    },
    "id": "JWfAyvG4e7Dz",
    "outputId": "87f3b956-432b-485b-fbd6-29660b3b023d"
   },
   "outputs": [],
   "source": [
    "df1.head()"
   ]
  },
  {
   "cell_type": "code",
   "execution_count": null,
   "metadata": {
    "id": "ukB0ZV6XfgGH"
   },
   "outputs": [],
   "source": [
    "# Drop the unnamed index column\n",
    "df1.drop(columns=['Unnamed: 0'], inplace=True)\n",
    "\n",
    "# Fill missing time-related fields\n",
    "df1['prep_time'] = df1['prep_time'].fillna(\"Unknown\")\n",
    "df1['cook_time'] = df1['cook_time'].fillna(\"Unknown\")\n",
    "df1['total_time'] = df1['total_time'].fillna(\"Unknown\")\n",
    "\n",
    "# Standardize 'yield'\n",
    "df1['yield'] = df1['yield'].fillna(\"Varies\")\n",
    "\n",
    "# Replace NaNs in ingredients and directions with empty strings to avoid breaking parsing\n",
    "df1['ingredients'] = df1['ingredients'].fillna(\"\")\n",
    "df1['directions'] = df1['directions'].fillna(\"\")\n",
    "\n",
    "# Parse ingredients as a list (split by comma)\n",
    "df1['ingredients'] = df1['ingredients'].apply(lambda x: [i.strip() for i in x.split(',') if i.strip()])\n",
    "\n",
    "# Split directions into steps (split by period, question mark, or exclamation mark optionally)\n",
    "import re\n",
    "df1['directions'] = df1['directions'].apply(lambda x: [step.strip() for step in re.split(r'[.?!]\\s+', x) if step.strip()])\n",
    "\n",
    "#Clean nutrition (keep as-is or parse specific macros later)\n",
    "df1['nutrition'] = df1['nutrition'].fillna(\"Not Available\")\n",
    "\n",
    "# Fill remaining columns with defaults if needed\n",
    "df1['img_src'] = df1['img_src'].fillna(\"https://via.placeholder.com/150\")\n",
    "df1['cuisine_path'] = df1['cuisine_path'].fillna(\"Uncategorized\")\n",
    "df1['timing'] = df1['timing'].fillna(\"Not specified\")\n",
    "\n",
    "# Ensure rating is float and fill 0 where missing\n",
    "df1['rating'] = df1['rating'].fillna(0.0).astype(float)\n",
    "df1['servings'] = df1['servings'].fillna(0).astype(int)"
   ]
  },
  {
   "cell_type": "code",
   "execution_count": null,
   "metadata": {
    "id": "G24MdydpfSAc"
   },
   "outputs": [],
   "source": [
    "def format_recipe_row(row):\n",
    "    return {\n",
    "        \"name\": row[\"recipe_name\"],\n",
    "        \"ingredients\": row[\"ingredients\"],\n",
    "        \"steps\": row[\"directions\"],\n",
    "        \"prep_time\": row[\"prep_time\"],\n",
    "        \"cook_time\": row[\"cook_time\"],\n",
    "        \"total_time\": row[\"total_time\"],\n",
    "        \"servings\": row[\"servings\"],\n",
    "        \"yield\": row[\"yield\"],\n",
    "        \"rating\": row[\"rating\"],\n",
    "        \"url\": row[\"url\"],\n",
    "        \"img_src\": row[\"img_src\"],\n",
    "        \"cuisine\": row[\"cuisine_path\"],\n",
    "        \"nutrition\": row[\"nutrition\"]\n",
    "    }\n",
    "\n",
    "recipes = df1.apply(format_recipe_row, axis=1).tolist()"
   ]
  },
  {
   "cell_type": "code",
   "execution_count": null,
   "metadata": {
    "id": "mkhSzzGafMZw"
   },
   "outputs": [],
   "source": [
    "import json\n",
    "\n",
    "with open(\"nomnom_clean_recipes.json\", \"w\") as f:\n",
    "    json.dump(recipes, f, indent=2)"
   ]
  },
  {
   "cell_type": "code",
   "execution_count": null,
   "metadata": {
    "colab": {
     "base_uri": "https://localhost:8080/",
     "height": 449
    },
    "id": "sKCKY9brhM6V",
    "outputId": "d89670b5-caba-4ac8-e173-8d58ba9009e2"
   },
   "outputs": [],
   "source": [
    "df3.head()"
   ]
  },
  {
   "cell_type": "code",
   "execution_count": null,
   "metadata": {
    "colab": {
     "base_uri": "https://localhost:8080/",
     "height": 309
    },
    "id": "KX_e-o9Pj_53",
    "outputId": "8d4f1e82-b375-4f6c-c15c-149d4eae7eb5"
   },
   "outputs": [],
   "source": [
    "df3.head(1)"
   ]
  },
  {
   "cell_type": "code",
   "execution_count": null,
   "metadata": {
    "colab": {
     "base_uri": "https://localhost:8080/"
    },
    "id": "4Xs9peXBhWE_",
    "outputId": "096f6878-ef1e-47cf-c580-ed00b20d7ffa"
   },
   "outputs": [],
   "source": [
    "print(df3.shape)\n",
    "print(df3.columns)"
   ]
  },
  {
   "cell_type": "code",
   "execution_count": null,
   "metadata": {
    "id": "cuJZM8tfjOHA"
   },
   "outputs": [],
   "source": [
    "df3_cp = df3.copy()"
   ]
  },
  {
   "cell_type": "code",
   "execution_count": null,
   "metadata": {
    "id": "-LALLDpThXuQ"
   },
   "outputs": [],
   "source": [
    "import ast\n",
    "# Define safe eval\n",
    "def safe_eval(val):\n",
    "    try:\n",
    "        return ast.literal_eval(val)\n",
    "    except (ValueError, SyntaxError):\n",
    "        return []\n",
    "\n",
    "# Apply to necessary columns\n",
    "for col in ['ingredients', 'directions', 'NER']:\n",
    "    df3[col] = df3[col].apply(safe_eval)\n"
   ]
  },
  {
   "cell_type": "code",
   "execution_count": null,
   "metadata": {
    "id": "mHEtSktUl6It"
   },
   "outputs": [],
   "source": [
    "df3['title'] = df3['title'].fillna(\"Unnamed Recipe\")\n",
    "df3['link'] = df3['link'].fillna(\"#\")\n",
    "df3['source'] = df3['source'].fillna(\"Unknown\")\n",
    "df3['site'] = df3['site'].fillna(\"Unknown\")"
   ]
  },
  {
   "cell_type": "code",
   "execution_count": null,
   "metadata": {
    "colab": {
     "base_uri": "https://localhost:8080/",
     "height": 449
    },
    "id": "q0smEbsphhPd",
    "outputId": "e8c23e2f-ca7d-4e51-8c59-79ea5023e6a9"
   },
   "outputs": [],
   "source": [
    "df3_cp.head()"
   ]
  },
  {
   "cell_type": "code",
   "execution_count": null,
   "metadata": {
    "id": "Jaq2vuBShgfg"
   },
   "outputs": [],
   "source": [
    "def format_df3_recipe(row):\n",
    "    return {\n",
    "        \"name\": row['title'],\n",
    "        \"ingredients\": row['ingredients'],\n",
    "        \"steps\": row['directions'],\n",
    "        \"source\": row['source'],\n",
    "        \"link\": row['link'],\n",
    "        \"entities\": row['NER'],\n",
    "        \"site\": row['site']\n",
    "    }\n",
    "\n",
    "recipes_df3 = df3_cp.apply(format_df3_recipe, axis=1).tolist()"
   ]
  },
  {
   "cell_type": "code",
   "execution_count": null,
   "metadata": {
    "id": "2p4kISO2iH-P"
   },
   "outputs": [],
   "source": [
    "import json\n",
    "\n",
    "with open(\"/content/drive/MyDrive/Colab Notebooks/dataset/nomnom_df3_cleaned.json\", \"w\") as f:\n",
    "    json.dump(recipes_df3, f, indent=2)"
   ]
  },
  {
   "cell_type": "code",
   "execution_count": null,
   "metadata": {
    "colab": {
     "base_uri": "https://localhost:8080/",
     "height": 1000
    },
    "id": "F9xiVf6yfV1g",
    "outputId": "52a02884-526c-400b-cd94-52372e6a5eec"
   },
   "outputs": [],
   "source": [
    "df2.head()"
   ]
  },
  {
   "cell_type": "code",
   "execution_count": null,
   "metadata": {
    "id": "nASoIIQ7fqfK"
   },
   "outputs": [],
   "source": [
    "df2 = df2.dropna(thresh=6)"
   ]
  },
  {
   "cell_type": "code",
   "execution_count": null,
   "metadata": {
    "colab": {
     "base_uri": "https://localhost:8080/"
    },
    "id": "Jk6_TNmmfrMR",
    "outputId": "9fa86326-6687-4cd4-f3ae-d339320f2969"
   },
   "outputs": [],
   "source": [
    "df2.info()"
   ]
  },
  {
   "cell_type": "code",
   "execution_count": null,
   "metadata": {
    "id": "REUXH1Sef6T0"
   },
   "outputs": [],
   "source": [
    "df2 = pd.read_csv(\n",
    "    '/content/drive/MyDrive/Colab Notebooks/dataset/RAW_recipes.csv', header=0,\n",
    "    sep=',',\n",
    "    quoting=3,\n",
    "    escapechar='\\\\',\n",
    "    on_bad_lines='skip',\n",
    "    engine='python',dtype=str\n",
    ")"
   ]
  },
  {
   "cell_type": "code",
   "execution_count": null,
   "metadata": {
    "colab": {
     "base_uri": "https://localhost:8080/",
     "height": 358
    },
    "id": "dbU1FtUkPu7U",
    "outputId": "8089d05f-ba70-4b06-95d3-22d8e5b48111"
   },
   "outputs": [],
   "source": [
    "df2.head(2)"
   ]
  },
  {
   "cell_type": "code",
   "execution_count": null,
   "metadata": {
    "id": "oUxEnnRGgf3u"
   },
   "outputs": [],
   "source": [
    "df2.reset_index(drop=True, inplace=True)"
   ]
  },
  {
   "cell_type": "code",
   "execution_count": null,
   "metadata": {
    "colab": {
     "base_uri": "https://localhost:8080/"
    },
    "id": "Nozm30KFgBrj",
    "outputId": "732c131b-1d5b-4019-e124-20bb6d90a5ce"
   },
   "outputs": [],
   "source": [
    "print(df2.shape)\n",
    "print(df2.columns)"
   ]
  },
  {
   "cell_type": "code",
   "execution_count": null,
   "metadata": {
    "id": "vQB8SM49gJTP"
   },
   "outputs": [],
   "source": [
    "df2 = df2.dropna(thresh=6)"
   ]
  },
  {
   "cell_type": "code",
   "execution_count": null,
   "metadata": {
    "colab": {
     "base_uri": "https://localhost:8080/"
    },
    "id": "q9hymJIAgKJ3",
    "outputId": "65ce717e-a033-41fc-dc3c-8b0b023cd200"
   },
   "outputs": [],
   "source": [
    "df2.info()"
   ]
  },
  {
   "cell_type": "code",
   "execution_count": null,
   "metadata": {
    "id": "rAEGWVcegUkA"
   },
   "outputs": [],
   "source": [
    "#if isinstance(df2.index, pd.MultiIndex):\n",
    "   # df2.reset_index(inplace=True)"
   ]
  },
  {
   "cell_type": "code",
   "execution_count": null,
   "metadata": {
    "colab": {
     "base_uri": "https://localhost:8080/"
    },
    "id": "_7z1Vku3gVUs",
    "outputId": "fa8c9698-ceb7-4829-8b87-c13475c2c0d6"
   },
   "outputs": [],
   "source": [
    "#print(df2.shape)\n",
    "#print(df2.columns)\n",
    "#print(type(df2.index))"
   ]
  },
  {
   "cell_type": "code",
   "execution_count": null,
   "metadata": {
    "id": "eFxf9b_HQNGN"
   },
   "outputs": [],
   "source": [
    "import re\n",
    "\n",
    "input_path = '/content/drive/MyDrive/Colab Notebooks/dataset/RAW_recipes.csv'\n",
    "output_path = '/content/drive/MyDrive/Colab Notebooks/dataset/RAW_recipes_cleaned.csv'\n",
    "\n",
    "cleaned_lines = []\n",
    "buffer = \"\"\n",
    "expected_columns = 12  # Number of CSV fields/columns\n",
    "\n",
    "with open(input_path, 'r', encoding='utf-8', errors='ignore') as f:\n",
    "    header = f.readline()\n",
    "    cleaned_lines.append(header.strip())\n",
    "\n",
    "    for line in f:\n",
    "        buffer += line.strip()\n",
    "\n",
    "        # Count commas to guess if the row is complete\n",
    "        if buffer.count(\",\") >= expected_columns - 1:\n",
    "            cleaned_lines.append(buffer)\n",
    "            buffer = \"\"\n",
    "\n",
    "# Write cleaned lines to a new file\n",
    "with open(output_path, 'w', encoding='utf-8') as f:\n",
    "    for line in cleaned_lines:\n",
    "        f.write(line + \"\\n\")"
   ]
  },
  {
   "cell_type": "code",
   "execution_count": null,
   "metadata": {
    "id": "W0m_d5wlQUzZ"
   },
   "outputs": [],
   "source": [
    "import csv\n",
    "\n",
    "input_path = '/content/drive/MyDrive/Colab Notebooks/dataset/RAW_recipes.csv'\n",
    "output_path = '/content/drive/MyDrive/Colab Notebooks/dataset/RAW_recipes_cleaned.csv'\n",
    "\n",
    "with open(input_path, 'r', encoding='utf-8', errors='ignore') as infile, \\\n",
    "     open(output_path, 'w', encoding='utf-8', newline='') as outfile:\n",
    "\n",
    "    reader = csv.reader(infile, delimiter=',', quotechar='\"', escapechar='\\\\')\n",
    "    writer = csv.writer(outfile)\n",
    "\n",
    "    for row in reader:\n",
    "        if len(row) == 12:  # ✅ expected number of columns\n",
    "            writer.writerow(row)"
   ]
  },
  {
   "cell_type": "code",
   "execution_count": null,
   "metadata": {
    "id": "RZWj0pIGUvKT"
   },
   "outputs": [],
   "source": [
    "df2 = pd.read_csv('/content/drive/MyDrive/Colab Notebooks/dataset/RAW_recipes_cleaned.csv')"
   ]
  },
  {
   "cell_type": "code",
   "execution_count": null,
   "metadata": {
    "colab": {
     "base_uri": "https://localhost:8080/",
     "height": 444
    },
    "id": "W1E1DowIUgKU",
    "outputId": "043231bc-732c-4d5f-a591-e8c2774b6abe"
   },
   "outputs": [],
   "source": [
    "print(df2.shape)\n",
    "df2.head(2).T"
   ]
  },
  {
   "cell_type": "code",
   "execution_count": null,
   "metadata": {
    "colab": {
     "base_uri": "https://localhost:8080/"
    },
    "id": "SnQ6D-TyWZM2",
    "outputId": "18e787fb-d5bc-4b49-f57c-86a14d957250"
   },
   "outputs": [],
   "source": [
    "df2.info()"
   ]
  },
  {
   "cell_type": "code",
   "execution_count": null,
   "metadata": {
    "id": "oeXKtnWhWkUf"
   },
   "outputs": [],
   "source": [
    "import ast\n",
    "\n",
    "def safe_eval(val):\n",
    "    try:\n",
    "        return ast.literal_eval(val)\n",
    "    except:\n",
    "        return []\n",
    "\n",
    "for col in ['tags', 'nutrition', 'steps', 'ingredients']:\n",
    "    df2[col] = df2[col].apply(safe_eval)"
   ]
  },
  {
   "cell_type": "code",
   "execution_count": null,
   "metadata": {
    "id": "l52f4nilWo7y"
   },
   "outputs": [],
   "source": [
    "df2['name'] = df2['name'].fillna(\"Unnamed Recipe\")\n",
    "df2['description'] = df2['description'].fillna(\"No description available.\")\n",
    "df2['submitted'] = pd.to_datetime(df2['submitted'], errors='coerce')\n",
    "df2['submitted'] = df2['submitted'].astype(str)"
   ]
  },
  {
   "cell_type": "code",
   "execution_count": null,
   "metadata": {
    "id": "h_Zf_CE0XPki"
   },
   "outputs": [],
   "source": [
    "recipes_bot_ready = df2.to_dict(orient='records')"
   ]
  },
  {
   "cell_type": "code",
   "execution_count": null,
   "metadata": {
    "id": "cyje_1DFWsZN"
   },
   "outputs": [],
   "source": [
    "import json\n",
    "with open(\"/content/drive/MyDrive/Colab Notebooks/dataset/nomnom_df2_cleaned.json\", \"w\") as f:\n",
    "    json.dump(recipes_bot_ready, f, indent=2)"
   ]
  },
  {
   "cell_type": "code",
   "execution_count": null,
   "metadata": {
    "id": "fzcIeo6u5ZFu"
   },
   "outputs": [],
   "source": [
    "import pandas as pd"
   ]
  },
  {
   "cell_type": "code",
   "execution_count": null,
   "metadata": {
    "id": "hxgna9hwm55g"
   },
   "outputs": [],
   "source": [
    "import json\n",
    "\n",
    "with open('/content/drive/MyDrive/Colab Notebooks/dataset/nomnom_clean_recipes.json', 'r') as f:\n",
    "    try:\n",
    "        data = json.load(f)\n",
    "    except json.JSONDecodeError as e:\n",
    "        print(\"Error parsing JSON:\", e)"
   ]
  },
  {
   "cell_type": "code",
   "execution_count": null,
   "metadata": {
    "id": "jRIEl_gY58so"
   },
   "outputs": [],
   "source": [
    "df1_clean = pd.DataFrame(data)"
   ]
  },
  {
   "cell_type": "code",
   "execution_count": null,
   "metadata": {
    "colab": {
     "base_uri": "https://localhost:8080/"
    },
    "id": "3tAjSKNJ4-Lw",
    "outputId": "1700cb24-50df-4ebb-c29d-4381db67576b"
   },
   "outputs": [],
   "source": [
    "import json\n",
    "\n",
    "with open('/content/drive/MyDrive/Colab Notebooks/dataset/nomnom_df2_cleaned.json', 'r') as f:\n",
    "    try:\n",
    "        data = json.load(f)\n",
    "    except json.JSONDecodeError as e:\n",
    "        print(\"Error parsing JSON:\", e)\n",
    "\n",
    "df2_clean = pd.DataFrame(data)"
   ]
  },
  {
   "cell_type": "code",
   "execution_count": null,
   "metadata": {
    "id": "9hqf1LVJ5BKD"
   },
   "outputs": [],
   "source": [
    "df3_clean = pd.read_json('/content/drive/MyDrive/Colab Notebooks/dataset/nomnom_df3_cleaned.json')"
   ]
  },
  {
   "cell_type": "code",
   "execution_count": null,
   "metadata": {
    "colab": {
     "base_uri": "https://localhost:8080/"
    },
    "id": "NtfDVTLC5XxB",
    "outputId": "659574be-efc4-41d6-ebdd-86632567be99"
   },
   "outputs": [],
   "source": [
    "df3_clean.columns"
   ]
  },
  {
   "cell_type": "code",
   "execution_count": null,
   "metadata": {
    "colab": {
     "base_uri": "https://localhost:8080/"
    },
    "id": "vr_80jiz6B9z",
    "outputId": "917e8157-309e-4302-cba1-d8df5882b3f4"
   },
   "outputs": [],
   "source": [
    "df2_clean.columns"
   ]
  },
  {
   "cell_type": "code",
   "execution_count": null,
   "metadata": {
    "colab": {
     "base_uri": "https://localhost:8080/"
    },
    "id": "9o7u6x-g6DLg",
    "outputId": "a6867f51-927e-4688-fc10-faf7aa49f8b5"
   },
   "outputs": [],
   "source": [
    "df1_clean.columns"
   ]
  },
  {
   "cell_type": "code",
   "execution_count": null,
   "metadata": {
    "colab": {
     "base_uri": "https://localhost:8080/",
     "height": 115
    },
    "id": "_82tYCXX6fvU",
    "outputId": "8bc259e4-5774-43c6-848d-f4701b241246"
   },
   "outputs": [],
   "source": [
    "df2_clean['name'].head(1)"
   ]
  },
  {
   "cell_type": "code",
   "execution_count": null,
   "metadata": {
    "id": "3PezDGdR6Wg4"
   },
   "outputs": [],
   "source": [
    "# Rename columns for consistency\n",
    "df1_clean = df1_clean.rename(columns={\n",
    "    'recipe_name': 'name',\n",
    "    'directions': 'steps',\n",
    "    'cuisine_path': 'cuisine',\n",
    "    'timing': 'prep_timing'\n",
    "})\n",
    "\n",
    "df2_clean = df2_clean.rename(columns={\n",
    "    'description': 'desc'\n",
    "})\n",
    "\n",
    "df3_clean = df3_clean.rename(columns={\n",
    "    'NER': 'entities',\n",
    "    'title': 'name'\n",
    "})"
   ]
  },
  {
   "cell_type": "code",
   "execution_count": null,
   "metadata": {
    "id": "nQ1ZaAA_75kg"
   },
   "outputs": [],
   "source": [
    "all_columns = set(df1_clean.columns) | set(df2_clean.columns) | set(df3_clean.columns)"
   ]
  },
  {
   "cell_type": "code",
   "execution_count": null,
   "metadata": {
    "id": "DyJj_1Bj7-Ts"
   },
   "outputs": [],
   "source": [
    "df1_ready = df1_clean.reindex(columns=all_columns)\n",
    "df2_ready = df2_clean.reindex(columns=all_columns)\n",
    "df3_ready = df3_clean.reindex(columns=all_columns)"
   ]
  },
  {
   "cell_type": "code",
   "execution_count": null,
   "metadata": {
    "id": "W5BIvVMk8ARP"
   },
   "outputs": [],
   "source": [
    "combined_recipes_df = pd.concat([df1_ready, df2_ready, df3_ready], ignore_index=True)"
   ]
  },
  {
   "cell_type": "code",
   "execution_count": null,
   "metadata": {
    "id": "gYycvPqW8C0_"
   },
   "outputs": [],
   "source": [
    "combined_recipes_df.to_json('/content/drive/MyDrive/Colab Notebooks/dataset/nomnom_combined_recipes.json', orient='records', indent=2)"
   ]
  },
  {
   "cell_type": "code",
   "execution_count": null,
   "metadata": {
    "id": "xUhhHISt8Dw9"
   },
   "outputs": [],
   "source": [
    "combined_recipes_df.to_csv('/content/drive/MyDrive/Colab Notebooks/dataset/nomnom_combined_recipes.csv', index=False)"
   ]
  },
  {
   "cell_type": "code",
   "execution_count": null,
   "metadata": {
    "colab": {
     "base_uri": "https://localhost:8080/"
    },
    "id": "ZBeLnKe5_h6g",
    "outputId": "aaf7ac51-d271-407d-c919-5ad8a294cdb3"
   },
   "outputs": [],
   "source": [
    "combined_recipes_df.columns"
   ]
  },
  {
   "cell_type": "code",
   "execution_count": null,
   "metadata": {
    "colab": {
     "base_uri": "https://localhost:8080/"
    },
    "id": "fBGD-IKa8GCo",
    "outputId": "ad50aa18-3622-4acf-b688-ef411cc7deec"
   },
   "outputs": [],
   "source": [
    "!pip install -U sentence-transformers"
   ]
  },
  {
   "cell_type": "code",
   "execution_count": null,
   "metadata": {
    "id": "b01yD8yV8sLA"
   },
   "outputs": [],
   "source": [
    "def prepare_text(row):\n",
    "    return (\n",
    "        f\"{row.get('name', '')}. \"\n",
    "        f\"Description: {row.get('desc', '')}. \"\n",
    "        f\"Ingredients: {row.get('ingredients', '')}. \"\n",
    "        f\"Steps: {row.get('steps', '')}. \"\n",
    "        f\"Tags: {row.get('tags', '')}. \"\n",
    "        f\"Cuisine: {row.get('cuisine', '')}.\"\n",
    "    )\n",
    "\n",
    "combined_recipes_df['text_for_embedding'] = combined_recipes_df.apply(prepare_text, axis=1)"
   ]
  },
  {
   "cell_type": "code",
   "execution_count": null,
   "metadata": {
    "id": "4jdgOUU98tP1"
   },
   "outputs": [],
   "source": [
    "from sentence_transformers import SentenceTransformer\n",
    "import numpy as np\n",
    "\n",
    "model = SentenceTransformer('all-MiniLM-L6-v2')"
   ]
  },
  {
   "cell_type": "code",
   "execution_count": null,
   "metadata": {
    "colab": {
     "base_uri": "https://localhost:8080/",
     "height": 649
    },
    "id": "Dzkpp8cUHQQh",
    "outputId": "9da71456-b5e1-425c-dc0c-a0ee9b77d12c"
   },
   "outputs": [],
   "source": [
    "combined_recipes_df.count()"
   ]
  },
  {
   "cell_type": "code",
   "execution_count": null,
   "metadata": {
    "id": "ua0rkQ-3HMoK"
   },
   "outputs": [],
   "source": [
    "embeddings = model.encode(\n",
    "    combined_recipes_df['text_for_embedding'].fillna(\"\").tolist(),\n",
    "    show_progress_bar=True,\n",
    "    batch_size=64)"
   ]
  },
  {
   "cell_type": "code",
   "execution_count": null,
   "metadata": {
    "colab": {
     "base_uri": "https://localhost:8080/",
     "height": 49,
     "referenced_widgets": [
      "118f0a5cafc34948bc99e485a2095196",
      "4c1b8c7920724663b778a102e43188a5",
      "bab2688c095441408e3d2c326d17a99e",
      "0189dbcb1e224233a4a20a8410d5d7ad",
      "78383293fb1a4fdfb1125a0423430631",
      "e503e907f2fe418bb4c3c303bf03f3b3",
      "b0ea5f1e65ef47d7b98314b90a6fcfd7",
      "dde3ee61dcfc44eeb78a266987e4a45c",
      "3fdd61fe480b42bdb622b6944324803b",
      "fef336bac0794559aaee110dc91da120",
      "9515272847094d1196c1af181773c389"
     ]
    },
    "id": "1jhSuwTKHoG6",
    "outputId": "5a9126fa-1ed5-46e8-f08f-e8ba0286b08d"
   },
   "outputs": [],
   "source": [
    "sampled_df = combined_recipes_df.sample(n=10000, random_state=42).reset_index(drop=True)\n",
    "def prepare_text(row):\n",
    "    return (\n",
    "        f\"{row.get('name', '')}. \"\n",
    "        f\"Description: {row.get('desc', '')}. \"\n",
    "        f\"Ingredients: {row.get('ingredients', '')}. \"\n",
    "        f\"Steps: {row.get('steps', '')}. \"\n",
    "        f\"Tags: {row.get('tags', '')}. \"\n",
    "        f\"Cuisine: {row.get('cuisine', '')}.\"\n",
    "    )\n",
    "\n",
    "sampled_df['text_for_embedding'] = sampled_df.apply(prepare_text, axis=1)\n",
    "\n",
    "\n",
    "sample_embeddings = model.encode(sampled_df['text_for_embedding'].fillna(\"\"), show_progress_bar=True)\n",
    "\n",
    "import pickle\n",
    "with open(\"sample_embeddings.pkl\", \"wb\") as f:\n",
    "    pickle.dump((sample_embeddings, sampled_df), f)"
   ]
  },
  {
   "cell_type": "code",
   "execution_count": null,
   "metadata": {
    "id": "pBNtyasN9CgI"
   },
   "outputs": [],
   "source": [
    "from sklearn.metrics.pairwise import cosine_similarity\n",
    "\n",
    "def retrieve_similar_recipes(query, top_k=5):\n",
    "    query_embedding = model.encode([query])\n",
    "    similarities = cosine_similarity(query_embedding, sample_embeddings)[0]\n",
    "    top_indices = similarities.argsort()[-top_k:][::-1]\n",
    "    return sampled_df.iloc[top_indices].copy(), similarities[top_indices]"
   ]
  },
  {
   "cell_type": "code",
   "execution_count": null,
   "metadata": {
    "colab": {
     "base_uri": "https://localhost:8080/"
    },
    "id": "USy8QRca9DOq",
    "outputId": "783b443e-0a14-455c-c3ed-535bddf8b5d8"
   },
   "outputs": [],
   "source": [
    "results_df, scores = retrieve_similar_recipes(\"creamy mushroom pasta\")\n",
    "for i, (idx, row) in enumerate(results_df.iterrows()):\n",
    "    print(f\"--- Recipe #{i+1} (Score: {scores[i]:.4f}) ---\")\n",
    "    print(\"Name:\", row[\"name\"])\n",
    "    print(\"Ingredients:\", row[\"ingredients\"])\n",
    "    print(\"Steps:\", row[\"steps\"][:300], \"...\\n\")"
   ]
  },
  {
   "cell_type": "code",
   "execution_count": null,
   "metadata": {
    "id": "XJ9kf8Ai9IXx"
   },
   "outputs": [],
   "source": [
    "with open(\"recipe_embeddings.pkl\", \"rb\") as f:\n",
    "    embeddings, combined_recipes_df = pickle.load(f)\n"
   ]
  },
  {
   "cell_type": "code",
   "execution_count": null,
   "metadata": {
    "colab": {
     "base_uri": "https://localhost:8080/"
    },
    "id": "QHnowZOo9O5Q",
    "outputId": "3d5d9032-0061-4205-8a8d-206daa5e4036"
   },
   "outputs": [],
   "source": [
    "!pip install faiss-cpu"
   ]
  },
  {
   "cell_type": "code",
   "execution_count": null,
   "metadata": {
    "id": "YStxb6JN9Yqc"
   },
   "outputs": [],
   "source": [
    "import faiss\n",
    "import numpy as np\n",
    "\n",
    "dim = sample_embeddings.shape[1]\n",
    "index = faiss.IndexFlatL2(dim)\n",
    "index.add(np.array(sample_embeddings).astype('float32'))\n",
    "faiss.write_index(index, \"sample_recipe_index.faiss\")"
   ]
  },
  {
   "cell_type": "code",
   "execution_count": null,
   "metadata": {
    "id": "pqxGXsPf946L"
   },
   "outputs": [],
   "source": [
    "def retrieve_faiss(query, top_k=5):\n",
    "    query_vector = model.encode([query]).astype('float32')\n",
    "    distances, indices = index.search(query_vector, top_k)\n",
    "    return sampled_df.iloc[indices[0]].copy(), distances[0]"
   ]
  }
 ],
 "metadata": {
  "accelerator": "TPU",
  "colab": {
   "gpuType": "V28",
   "provenance": []
  },
  "kernelspec": {
   "display_name": "Python 3",
   "name": "python3"
  },
  "language_info": {
   "name": "python"
  }
 },
 "nbformat": 4,
 "nbformat_minor": 0
}
